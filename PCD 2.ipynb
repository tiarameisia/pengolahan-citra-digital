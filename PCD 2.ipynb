{
 "cells": [
  {
   "cell_type": "markdown",
   "id": "e9d0cd02",
   "metadata": {},
   "source": [
    "## Import Library"
   ]
  },
  {
   "cell_type": "code",
   "execution_count": 11,
   "id": "dd0c2286",
   "metadata": {},
   "outputs": [
    {
     "name": "stdout",
     "output_type": "stream",
     "text": [
      "Requirement already satisfied: opencv-python in /opt/anaconda3/lib/python3.12/site-packages (4.11.0.86)\n",
      "Requirement already satisfied: numpy>=1.21.2 in /opt/anaconda3/lib/python3.12/site-packages (from opencv-python) (1.26.4)\n",
      "Requirement already satisfied: numpy in /opt/anaconda3/lib/python3.12/site-packages (1.26.4)\n",
      "Requirement already satisfied: matplotlib in /opt/anaconda3/lib/python3.12/site-packages (3.8.4)\n",
      "Requirement already satisfied: contourpy>=1.0.1 in /opt/anaconda3/lib/python3.12/site-packages (from matplotlib) (1.2.0)\n",
      "Requirement already satisfied: cycler>=0.10 in /opt/anaconda3/lib/python3.12/site-packages (from matplotlib) (0.11.0)\n",
      "Requirement already satisfied: fonttools>=4.22.0 in /opt/anaconda3/lib/python3.12/site-packages (from matplotlib) (4.51.0)\n",
      "Requirement already satisfied: kiwisolver>=1.3.1 in /opt/anaconda3/lib/python3.12/site-packages (from matplotlib) (1.4.4)\n",
      "Requirement already satisfied: numpy>=1.21 in /opt/anaconda3/lib/python3.12/site-packages (from matplotlib) (1.26.4)\n",
      "Requirement already satisfied: packaging>=20.0 in /opt/anaconda3/lib/python3.12/site-packages (from matplotlib) (23.2)\n",
      "Requirement already satisfied: pillow>=8 in /opt/anaconda3/lib/python3.12/site-packages (from matplotlib) (10.3.0)\n",
      "Requirement already satisfied: pyparsing>=2.3.1 in /opt/anaconda3/lib/python3.12/site-packages (from matplotlib) (3.0.9)\n",
      "Requirement already satisfied: python-dateutil>=2.7 in /opt/anaconda3/lib/python3.12/site-packages (from matplotlib) (2.9.0.post0)\n",
      "Requirement already satisfied: six>=1.5 in /opt/anaconda3/lib/python3.12/site-packages (from python-dateutil>=2.7->matplotlib) (1.16.0)\n"
     ]
    }
   ],
   "source": [
    "!pip install opencv-python\n",
    "!pip install numpy\n",
    "!pip install matplotlib"
   ]
  },
  {
   "cell_type": "code",
   "execution_count": 12,
   "id": "43ea2d31",
   "metadata": {},
   "outputs": [
    {
     "ename": "ModuleNotFoundError",
     "evalue": "No module named 'cv2'",
     "output_type": "error",
     "traceback": [
      "\u001b[31m---------------------------------------------------------------------------\u001b[39m",
      "\u001b[31mModuleNotFoundError\u001b[39m                       Traceback (most recent call last)",
      "\u001b[36mCell\u001b[39m\u001b[36m \u001b[39m\u001b[32mIn[12]\u001b[39m\u001b[32m, line 1\u001b[39m\n\u001b[32m----> \u001b[39m\u001b[32m1\u001b[39m \u001b[38;5;28;01mimport\u001b[39;00m\u001b[38;5;250m \u001b[39m\u001b[34;01mcv2\u001b[39;00m\n\u001b[32m      2\u001b[39m \u001b[38;5;28;01mimport\u001b[39;00m\u001b[38;5;250m \u001b[39m\u001b[34;01mnumpy\u001b[39;00m\u001b[38;5;250m \u001b[39m\u001b[38;5;28;01mas\u001b[39;00m\u001b[38;5;250m \u001b[39m\u001b[34;01mnp\u001b[39;00m\n",
      "\u001b[31mModuleNotFoundError\u001b[39m: No module named 'cv2'"
     ]
    }
   ],
   "source": [
    "import cv2\n",
    "import numpy as np"
   ]
  },
  {
   "cell_type": "markdown",
   "id": "67ae9f1b",
   "metadata": {},
   "source": [
    "## Membaca Citra"
   ]
  },
  {
   "cell_type": "code",
   "execution_count": 2,
   "id": "96be809a",
   "metadata": {},
   "outputs": [],
   "source": [
    "citra = cv2.imread('orange2.jpg')"
   ]
  },
  {
   "cell_type": "code",
   "execution_count": 3,
   "id": "4f0c86ab",
   "metadata": {},
   "outputs": [],
   "source": [
    "cv2.imshow(\"citra asli\", citra)\n",
    "cv2.waitKey()\n",
    "cv2.destroyAllWindows()"
   ]
  },
  {
   "cell_type": "markdown",
   "id": "2af6f9ad",
   "metadata": {},
   "source": [
    "## Dimensi Citra"
   ]
  },
  {
   "cell_type": "code",
   "execution_count": 6,
   "id": "1aa2730b",
   "metadata": {},
   "outputs": [
    {
     "name": "stdout",
     "output_type": "stream",
     "text": [
      "(398, 600, 3)\n",
      "uint8\n"
     ]
    }
   ],
   "source": [
    "print(citra.shape)\n",
    "print(citra.dtype)"
   ]
  },
  {
   "cell_type": "markdown",
   "id": "463a5f01",
   "metadata": {},
   "source": [
    "## Splitting Citra RGB"
   ]
  },
  {
   "cell_type": "code",
   "execution_count": 4,
   "id": "594b01e6",
   "metadata": {},
   "outputs": [],
   "source": [
    "b = citra [:,:,0]\n",
    "g = citra [:,:,1]\n",
    "r = citra [:,:,2]"
   ]
  },
  {
   "cell_type": "code",
   "execution_count": 5,
   "id": "ee428751",
   "metadata": {},
   "outputs": [],
   "source": [
    "panjang = len(citra)\n",
    "lebar = len(citra[0])\n",
    "\n",
    "citra_gray = np.zeros ((panjang,lebar))\n",
    "\n",
    "for i in range (panjang):#0 - 544\n",
    "    for j in range (lebar): #0 - 960\n",
    "        citra_gray[i,j] = 0.2989 * r[i,j] + 0.587 * g[i,j] + 0.1141 * b [i,j] # merah - 29,89% ; hijau - 58,7% ; biru - 11,41%\n",
    "        \n",
    "citra_gray = citra_gray.astype(np.uint8)\n",
    "cv2.imshow(\"citra grayscale\", citra_gray)\n",
    "cv2.waitKey()\n",
    "cv2.destroyAllWindows()"
   ]
  },
  {
   "cell_type": "code",
   "execution_count": 6,
   "id": "b03f0b77",
   "metadata": {},
   "outputs": [
    {
     "name": "stdout",
     "output_type": "stream",
     "text": [
      "[[[ 16  13   9]\n",
      "  [ 16  13   9]\n",
      "  [ 14  12  11]\n",
      "  ...\n",
      "  [ 23  83 125]\n",
      "  [ 20  56  92]\n",
      "  [  0  13  47]]\n",
      "\n",
      " [[ 17  14  10]\n",
      "  [ 15  14  10]\n",
      "  [ 15  13  12]\n",
      "  ...\n",
      "  [ 27  87 129]\n",
      "  [ 25  62 100]\n",
      "  [  0  18  52]]\n",
      "\n",
      " [[ 15  13  12]\n",
      "  [ 15  13  12]\n",
      "  [ 15  13  13]\n",
      "  ...\n",
      "  [ 26  90 131]\n",
      "  [ 25  67 104]\n",
      "  [  0  24  59]]\n",
      "\n",
      " ...\n",
      "\n",
      " [[  0  67  92]\n",
      "  [  0  67  91]\n",
      "  [  0  65  90]\n",
      "  ...\n",
      "  [  2  90 180]\n",
      "  [  0  87 179]\n",
      "  [  0  87 179]]\n",
      "\n",
      " [[  0  66  89]\n",
      "  [  0  66  89]\n",
      "  [  0  66  89]\n",
      "  ...\n",
      "  [  1  91 180]\n",
      "  [  1  91 180]\n",
      "  [  2  92 181]]\n",
      "\n",
      " [[  0  66  89]\n",
      "  [  0  66  89]\n",
      "  [  0  66  89]\n",
      "  ...\n",
      "  [  1  91 180]\n",
      "  [  2  92 181]\n",
      "  [  4  94 183]]]\n"
     ]
    }
   ],
   "source": [
    "print(citra)"
   ]
  },
  {
   "cell_type": "markdown",
   "id": "9ff7f628",
   "metadata": {},
   "source": [
    "## Graysclae to Binary"
   ]
  },
  {
   "cell_type": "code",
   "execution_count": 17,
   "id": "1864063d",
   "metadata": {},
   "outputs": [],
   "source": [
    "panjang = len(citra)\n",
    "lebar = len(citra[0])\n",
    "\n",
    "ambang = 90\n",
    "\n",
    "citra_biner = np.zeros((panjang,lebar))\n",
    "\n",
    "for i in range (panjang):#0 - 544\n",
    "    for j in range (lebar): #0 - 960\n",
    "        if citra_gray[i,j] >= ambang:\n",
    "            citra_biner[i,j] = 1 #putih 255\n",
    "        else:\n",
    "            citra_biner[i,j] = 0 #hitam 0\n",
    "        \n",
    "cv2.imshow(\"citra binary\", citra_biner)\n",
    "cv2.waitKey()\n",
    "cv2.destroyAllWindows()"
   ]
  },
  {
   "cell_type": "code",
   "execution_count": 12,
   "id": "9ffd2bdf",
   "metadata": {},
   "outputs": [
    {
     "name": "stdout",
     "output_type": "stream",
     "text": [
      "[[0. 0. 0. ... 0. 0. 0.]\n",
      " [0. 0. 0. ... 1. 0. 0.]\n",
      " [0. 0. 0. ... 1. 0. 0.]\n",
      " ...\n",
      " [0. 0. 0. ... 1. 1. 1.]\n",
      " [0. 0. 0. ... 1. 1. 1.]\n",
      " [0. 0. 0. ... 1. 1. 1.]]\n"
     ]
    }
   ],
   "source": [
    "print(citra_biner)"
   ]
  },
  {
   "cell_type": "code",
   "execution_count": null,
   "id": "b090cea8",
   "metadata": {},
   "outputs": [],
   "source": []
  }
 ],
 "metadata": {
  "kernelspec": {
   "display_name": "Python 3",
   "language": "python",
   "name": "python3"
  },
  "language_info": {
   "codemirror_mode": {
    "name": "ipython",
    "version": 3
   },
   "file_extension": ".py",
   "mimetype": "text/x-python",
   "name": "python",
   "nbconvert_exporter": "python",
   "pygments_lexer": "ipython3",
   "version": "3.13.0"
  }
 },
 "nbformat": 4,
 "nbformat_minor": 5
}
